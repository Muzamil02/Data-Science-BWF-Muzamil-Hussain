{
  "nbformat": 4,
  "nbformat_minor": 0,
  "metadata": {
    "colab": {
      "provenance": []
    },
    "kernelspec": {
      "name": "python3",
      "display_name": "Python 3"
    },
    "language_info": {
      "name": "python"
    }
  },
  "cells": [
    {
      "cell_type": "markdown",
      "source": [
        "# **Reshape**"
      ],
      "metadata": {
        "id": "fcBjgBKvT6aq"
      }
    },
    {
      "cell_type": "code",
      "execution_count": 1,
      "metadata": {
        "colab": {
          "base_uri": "https://localhost:8080/"
        },
        "id": "3XH_MTtYRlfX",
        "outputId": "6efcacad-38f8-467f-b4e9-2b6a68fe1ce5"
      },
      "outputs": [
        {
          "output_type": "stream",
          "name": "stdout",
          "text": [
            "Original array:\n",
            "[ 0  1  2  3  4  5  6  7  8  9 10 11]\n",
            "\n",
            "Reshaped array (3x4):\n",
            "[[ 0  1  2  3]\n",
            " [ 4  5  6  7]\n",
            " [ 8  9 10 11]]\n"
          ]
        }
      ],
      "source": [
        "import numpy as np\n",
        "\n",
        "array = np.arange(12)\n",
        "print(\"Original array:\")\n",
        "print(array)\n",
        "\n",
        "reshaped_array = array.reshape(3, 4)    # Reshaping array to 3x4\n",
        "print(\"\\nReshaped array (3x4):\")\n",
        "print(reshaped_array)"
      ]
    },
    {
      "cell_type": "markdown",
      "source": [
        "# **Concatenate**"
      ],
      "metadata": {
        "id": "zSS8q_aZT2fM"
      }
    },
    {
      "cell_type": "code",
      "source": [
        "import numpy as np\n",
        "\n",
        "array1 = np.array([[1, 2], [3, 4]])\n",
        "array2 = np.array([[5, 6], [7, 8]])\n",
        "\n",
        "concatenated_array_0 = np.concatenate((array1, array2), axis=0)   # Concatenate along axis 0 (rows)\n",
        "print(\"\\nConcatenated array along axis 0:\")\n",
        "print(concatenated_array_0)\n",
        "\n",
        "concatenated_array_1 = np.concatenate((array1, array2), axis=1)   # Concatenate along axis 1 (columns)\n",
        "print(\"\\nConcatenated array along axis 1:\")\n",
        "print(concatenated_array_1)"
      ],
      "metadata": {
        "colab": {
          "base_uri": "https://localhost:8080/"
        },
        "id": "29UEBWf9Rob0",
        "outputId": "ac3a16f4-1aa9-449c-e02b-6f4c2bc38b35"
      },
      "execution_count": 2,
      "outputs": [
        {
          "output_type": "stream",
          "name": "stdout",
          "text": [
            "\n",
            "Concatenated array along axis 0:\n",
            "[[1 2]\n",
            " [3 4]\n",
            " [5 6]\n",
            " [7 8]]\n",
            "\n",
            "Concatenated array along axis 1:\n",
            "[[1 2 5 6]\n",
            " [3 4 7 8]]\n"
          ]
        }
      ]
    },
    {
      "cell_type": "markdown",
      "source": [
        "# **Splitting**"
      ],
      "metadata": {
        "id": "WOAzSx-LTwJ_"
      }
    },
    {
      "cell_type": "code",
      "source": [
        "import numpy as np\n",
        "\n",
        "array = np.arange(16).reshape(4, 4)\n",
        "print(\"Original array:\")\n",
        "print(array)\n",
        "\n",
        "split_array_0 = np.split(array, 2, axis=0)    # Split into 2 sub-arrays along axis 0 (rows)\n",
        "print(\"\\nSplit arrays along axis 0:\")\n",
        "print(split_array_0)\n",
        "\n",
        "split_array_1 = np.split(array, 2, axis=1)    # Split into 2 sub-arrays along axis 1 (columns)\n",
        "print(\"\\nSplit arrays along axis 1:\")\n",
        "print(split_array_1)"
      ],
      "metadata": {
        "colab": {
          "base_uri": "https://localhost:8080/"
        },
        "id": "NNarjDP7Roae",
        "outputId": "6c71e905-4a06-4079-981d-9d37615cc89c"
      },
      "execution_count": 3,
      "outputs": [
        {
          "output_type": "stream",
          "name": "stdout",
          "text": [
            "Original array:\n",
            "[[ 0  1  2  3]\n",
            " [ 4  5  6  7]\n",
            " [ 8  9 10 11]\n",
            " [12 13 14 15]]\n",
            "\n",
            "Split arrays along axis 0:\n",
            "[array([[0, 1, 2, 3],\n",
            "       [4, 5, 6, 7]]), array([[ 8,  9, 10, 11],\n",
            "       [12, 13, 14, 15]])]\n",
            "\n",
            "Split arrays along axis 1:\n",
            "[array([[ 0,  1],\n",
            "       [ 4,  5],\n",
            "       [ 8,  9],\n",
            "       [12, 13]]), array([[ 2,  3],\n",
            "       [ 6,  7],\n",
            "       [10, 11],\n",
            "       [14, 15]])]\n"
          ]
        }
      ]
    },
    {
      "cell_type": "markdown",
      "source": [
        "# **Horizontal Split (hsplit)**"
      ],
      "metadata": {
        "id": "_IgJg44XTlA4"
      }
    },
    {
      "cell_type": "code",
      "source": [
        "import numpy as np\n",
        "\n",
        "array = np.arange(16).reshape(4, 4)\n",
        "print(\"Original array:\")\n",
        "print(array)\n",
        "\n",
        "hsplit_array = np.hsplit(array, 2)    # Horizontal split into 2 sub-arrays\n",
        "print(\"\\nHorizontally split arrays:\")\n",
        "print(hsplit_array)"
      ],
      "metadata": {
        "colab": {
          "base_uri": "https://localhost:8080/"
        },
        "id": "aAekaAfxRoPn",
        "outputId": "1048c5e0-2d73-46b2-d047-2e83787a2b03"
      },
      "execution_count": 4,
      "outputs": [
        {
          "output_type": "stream",
          "name": "stdout",
          "text": [
            "Original array:\n",
            "[[ 0  1  2  3]\n",
            " [ 4  5  6  7]\n",
            " [ 8  9 10 11]\n",
            " [12 13 14 15]]\n",
            "\n",
            "Horizontally split arrays:\n",
            "[array([[ 0,  1],\n",
            "       [ 4,  5],\n",
            "       [ 8,  9],\n",
            "       [12, 13]]), array([[ 2,  3],\n",
            "       [ 6,  7],\n",
            "       [10, 11],\n",
            "       [14, 15]])]\n"
          ]
        }
      ]
    },
    {
      "cell_type": "markdown",
      "source": [
        "# **Vertical Split (vsplit)**"
      ],
      "metadata": {
        "id": "v-nnq8XaTdXA"
      }
    },
    {
      "cell_type": "code",
      "source": [
        "import numpy as np\n",
        "\n",
        "array = np.arange(16).reshape(4, 4)\n",
        "print(\"Original array:\")\n",
        "print(array)\n",
        "\n",
        "vsplit_array = np.vsplit(array, 2)      # Vertical split into 2 sub-arrays\n",
        "print(\"\\nVertically split arrays:\")\n",
        "print(vsplit_array)"
      ],
      "metadata": {
        "colab": {
          "base_uri": "https://localhost:8080/"
        },
        "id": "-ak5w-6SR9CK",
        "outputId": "88f57e90-2990-4717-a3db-53d34be335ca"
      },
      "execution_count": 5,
      "outputs": [
        {
          "output_type": "stream",
          "name": "stdout",
          "text": [
            "Original array:\n",
            "[[ 0  1  2  3]\n",
            " [ 4  5  6  7]\n",
            " [ 8  9 10 11]\n",
            " [12 13 14 15]]\n",
            "\n",
            "Vertically split arrays:\n",
            "[array([[0, 1, 2, 3],\n",
            "       [4, 5, 6, 7]]), array([[ 8,  9, 10, 11],\n",
            "       [12, 13, 14, 15]])]\n"
          ]
        }
      ]
    }
  ]
}