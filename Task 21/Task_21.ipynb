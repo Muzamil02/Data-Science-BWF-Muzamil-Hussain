{
  "nbformat": 4,
  "nbformat_minor": 0,
  "metadata": {
    "colab": {
      "provenance": []
    },
    "kernelspec": {
      "name": "python3",
      "display_name": "Python 3"
    },
    "language_info": {
      "name": "python"
    }
  },
  "cells": [
    {
      "cell_type": "markdown",
      "source": [
        "# **Backpropagation in a Simple Neural Network (Single Layer Perceptron)**"
      ],
      "metadata": {
        "id": "Y67MIhHn2176"
      }
    },
    {
      "cell_type": "code",
      "source": [
        "import torch\n",
        "\n",
        "X = torch.tensor([[0.5, 2.0]], requires_grad=True)  # Input features\n",
        "Y = torch.tensor([[1.0]])  # Target output\n",
        "\n",
        "W = torch.tensor([[0.5], [0.5]], requires_grad=True)  # Weights\n",
        "b = torch.tensor([0.5], requires_grad=True)  # Bias\n",
        "\n",
        "output = torch.matmul(X, W) + b  # Linear transformation\n",
        "loss = (output - Y).pow(2).mean()  # Mean squared error (MSE) loss\n",
        "\n",
        "loss.backward()\n",
        "\n",
        "learning_rate = 0.01\n",
        "with torch.no_grad():\n",
        "    W -= learning_rate * W.grad\n",
        "    b -= learning_rate * b.grad\n",
        "\n",
        "W.grad.zero_()\n",
        "b.grad.zero_()\n",
        "\n",
        "print(f\"Updated weights: {W}\")\n",
        "print(f\"Updated bias: {b}\")"
      ],
      "metadata": {
        "colab": {
          "base_uri": "https://localhost:8080/"
        },
        "id": "CLgWdwKv4evH",
        "outputId": "b1798026-fb0c-4873-e9c7-eb60e236cb7e"
      },
      "execution_count": 20,
      "outputs": [
        {
          "output_type": "stream",
          "name": "stdout",
          "text": [
            "Updated weights: tensor([[0.4925],\n",
            "        [0.4700]], requires_grad=True)\n",
            "Updated bias: tensor([0.4850], requires_grad=True)\n"
          ]
        }
      ]
    },
    {
      "cell_type": "markdown",
      "source": [
        "# **Backpropagation in a Multi-Layer Perceptron**"
      ],
      "metadata": {
        "id": "fyn2s5ee5Vdp"
      }
    },
    {
      "cell_type": "code",
      "execution_count": 21,
      "metadata": {
        "colab": {
          "base_uri": "https://localhost:8080/"
        },
        "id": "5NdMJm0a1SQk",
        "outputId": "a7ff9b31-55f6-4fea-f235-0da10a438aef"
      },
      "outputs": [
        {
          "output_type": "stream",
          "name": "stdout",
          "text": [
            "Loss after training: 1.908060073852539\n"
          ]
        }
      ],
      "source": [
        "import torch\n",
        "import torch.nn as nn\n",
        "import torch.optim as optim\n",
        "\n",
        "class SimpleMLP(nn.Module):\n",
        "    def __init__(self):\n",
        "        super(SimpleMLP, self).__init__()\n",
        "        self.fc1 = nn.Linear(2, 3)  # Input to hidden layer\n",
        "        self.relu = nn.ReLU()\n",
        "        self.fc2 = nn.Linear(3, 1)  # Hidden layer to output\n",
        "\n",
        "    def forward(self, x):\n",
        "        x = self.fc1(x)\n",
        "        x = self.relu(x)\n",
        "        x = self.fc2(x)\n",
        "        return x\n",
        "\n",
        "model = SimpleMLP()\n",
        "criterion = nn.MSELoss()\n",
        "optimizer = optim.SGD(model.parameters(), lr=0.01)\n",
        "\n",
        "X = torch.tensor([[0.5, 2.0]])\n",
        "Y = torch.tensor([[1.0]])\n",
        "\n",
        "output = model(X)\n",
        "loss = criterion(output, Y)\n",
        "\n",
        "optimizer.zero_grad()  # Clear gradients\n",
        "loss.backward()  # Backpropagate the loss\n",
        "optimizer.step()  # Update the weights\n",
        "\n",
        "print(f\"Loss after training: {loss.item()}\")"
      ]
    },
    {
      "cell_type": "markdown",
      "source": [
        "# **Backpropagation in a Convolutional Neural Network (CNN)**"
      ],
      "metadata": {
        "id": "hGbhk-715fo6"
      }
    },
    {
      "cell_type": "code",
      "source": [
        "import torch\n",
        "import torch.nn as nn\n",
        "import torch.optim as optim\n",
        "\n",
        "class SimpleCNN(nn.Module):\n",
        "    def __init__(self):\n",
        "        super(SimpleCNN, self).__init__()\n",
        "        self.conv1 = nn.Conv2d(1, 16, kernel_size=3, stride=1, padding=1)\n",
        "        self.relu = nn.ReLU()\n",
        "        self.pool = nn.MaxPool2d(kernel_size=2, stride=2, padding=0)\n",
        "        self.fc1 = nn.Linear(16 * 14 * 14, 10)  # Assuming input images are 28x28\n",
        "\n",
        "    def forward(self, x):\n",
        "        x = self.conv1(x)\n",
        "        x = self.relu(x)\n",
        "        x = self.pool(x)\n",
        "        x = x.view(-1, 16 * 14 * 14)\n",
        "        x = self.fc1(x)\n",
        "        return x\n",
        "\n",
        "model = SimpleCNN()\n",
        "criterion = nn.CrossEntropyLoss()\n",
        "optimizer = optim.Adam(model.parameters(), lr=0.001)\n",
        "\n",
        "inputs = torch.randn(1, 1, 28, 28)\n",
        "target = torch.tensor([3])  # Example target label\n",
        "\n",
        "output = model(inputs)\n",
        "loss = criterion(output, target)\n",
        "\n",
        "optimizer.zero_grad()  # Clear gradients\n",
        "loss.backward()  # Backpropagate the loss\n",
        "optimizer.step()  # Update the weights\n",
        "\n",
        "print(f\"Loss after training: {loss.item()}\")"
      ],
      "metadata": {
        "colab": {
          "base_uri": "https://localhost:8080/"
        },
        "id": "JkyFsyjt5j6r",
        "outputId": "1ebf20d2-dd12-42b5-fc44-fe144d06c14e"
      },
      "execution_count": 22,
      "outputs": [
        {
          "output_type": "stream",
          "name": "stdout",
          "text": [
            "Loss after training: 3.0002827644348145\n"
          ]
        }
      ]
    }
  ]
}