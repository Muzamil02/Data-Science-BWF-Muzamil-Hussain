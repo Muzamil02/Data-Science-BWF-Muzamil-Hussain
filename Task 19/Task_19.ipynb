{
  "nbformat": 4,
  "nbformat_minor": 0,
  "metadata": {
    "colab": {
      "provenance": []
    },
    "kernelspec": {
      "name": "python3",
      "display_name": "Python 3"
    },
    "language_info": {
      "name": "python"
    }
  },
  "cells": [
    {
      "cell_type": "markdown",
      "source": [
        "# **Neural Networks**"
      ],
      "metadata": {
        "id": "Y67MIhHn2176"
      }
    },
    {
      "cell_type": "markdown",
      "source": [
        "# **Simple Feedforward Neural Network (Single Layer Perceptron)**"
      ],
      "metadata": {
        "id": "O2RjpMDG2w5o"
      }
    },
    {
      "cell_type": "code",
      "execution_count": 7,
      "metadata": {
        "colab": {
          "base_uri": "https://localhost:8080/"
        },
        "id": "5NdMJm0a1SQk",
        "outputId": "c1652b5d-86c7-4c7a-9599-e5d195ba58b2"
      },
      "outputs": [
        {
          "output_type": "stream",
          "name": "stdout",
          "text": [
            "Output after training: tensor([[0.5819]], grad_fn=<AddmmBackward0>)\n"
          ]
        }
      ],
      "source": [
        "import torch\n",
        "import torch.nn as nn\n",
        "import torch.optim as optim\n",
        "\n",
        "class SimpleNN(nn.Module):\n",
        "    def __init__(self, input_size, output_size):\n",
        "        super(SimpleNN, self).__init__()\n",
        "        self.fc = nn.Linear(input_size, output_size)\n",
        "\n",
        "    def forward(self, x):\n",
        "        return self.fc(x)\n",
        "\n",
        "input_size = 3\n",
        "output_size = 1\n",
        "model = SimpleNN(input_size, output_size)\n",
        "criterion = nn.MSELoss()\n",
        "optimizer = optim.SGD(model.parameters(), lr=0.01)\n",
        "\n",
        "inputs = torch.tensor([[1.0, 2.0, 3.0]])\n",
        "target = torch.tensor([[0.5]])\n",
        "\n",
        "output = model(inputs)\n",
        "loss = criterion(output, target)\n",
        "\n",
        "optimizer.zero_grad()\n",
        "loss.backward()\n",
        "optimizer.step()\n",
        "\n",
        "print(\"Output after training:\", output)"
      ]
    },
    {
      "cell_type": "markdown",
      "source": [
        "# **Multilayer Perceptron**"
      ],
      "metadata": {
        "id": "nsNETW2q2p4G"
      }
    },
    {
      "cell_type": "code",
      "source": [
        "import torch\n",
        "import torch.nn as nn\n",
        "import torch.optim as optim\n",
        "\n",
        "class MLP(nn.Module):\n",
        "    def __init__(self, input_size, hidden_size, output_size):\n",
        "        super(MLP, self).__init__()\n",
        "        self.fc1 = nn.Linear(input_size, hidden_size)\n",
        "        self.relu = nn.ReLU()\n",
        "        self.fc2 = nn.Linear(hidden_size, output_size)\n",
        "\n",
        "    def forward(self, x):\n",
        "        x = self.fc1(x)\n",
        "        x = self.relu(x)\n",
        "        x = self.fc2(x)\n",
        "        return x\n",
        "\n",
        "input_size = 4\n",
        "hidden_size = 5\n",
        "output_size = 2\n",
        "model = MLP(input_size, hidden_size, output_size)\n",
        "criterion = nn.CrossEntropyLoss()\n",
        "optimizer = optim.Adam(model.parameters(), lr=0.01)\n",
        "\n",
        "inputs = torch.tensor([[1.0, 2.0, 3.0, 4.0]])\n",
        "target = torch.tensor([1])\n",
        "\n",
        "output = model(inputs)\n",
        "loss = criterion(output, target)\n",
        "\n",
        "optimizer.zero_grad()\n",
        "loss.backward()\n",
        "optimizer.step()\n",
        "\n",
        "print(\"Output after training:\", output)"
      ],
      "metadata": {
        "colab": {
          "base_uri": "https://localhost:8080/"
        },
        "id": "xp187qF-12k7",
        "outputId": "442f8c0e-3468-40d3-aff4-fd5edcbed017"
      },
      "execution_count": 8,
      "outputs": [
        {
          "output_type": "stream",
          "name": "stdout",
          "text": [
            "Output after training: tensor([[ 1.1614, -1.5035]], grad_fn=<AddmmBackward0>)\n"
          ]
        }
      ]
    },
    {
      "cell_type": "markdown",
      "source": [
        "# **CNN for Image Classification**"
      ],
      "metadata": {
        "id": "3Ep8Djnp2hTy"
      }
    },
    {
      "cell_type": "code",
      "source": [
        "import torch\n",
        "import torch.nn as nn\n",
        "import torch.optim as optim\n",
        "\n",
        "class SimpleCNN(nn.Module):\n",
        "    def __init__(self):\n",
        "        super(SimpleCNN, self).__init__()\n",
        "        self.conv1 = nn.Conv2d(1, 16, kernel_size=3, stride=1, padding=1)\n",
        "        self.relu = nn.ReLU()\n",
        "        self.pool = nn.MaxPool2d(kernel_size=2, stride=2, padding=0)\n",
        "        self.fc1 = nn.Linear(16 * 14 * 14, 10)  # Assuming input images are 28x28\n",
        "\n",
        "    def forward(self, x):\n",
        "        x = self.conv1(x)\n",
        "        x = self.relu(x)\n",
        "        x = self.pool(x)\n",
        "        x = x.view(-1, 16 * 14 * 14)\n",
        "        x = self.fc1(x)\n",
        "        return x\n",
        "\n",
        "model = SimpleCNN()\n",
        "criterion = nn.CrossEntropyLoss()\n",
        "optimizer = optim.Adam(model.parameters(), lr=0.001)\n",
        "\n",
        "inputs = torch.randn(1, 1, 28, 28)\n",
        "target = torch.tensor([3])\n",
        "\n",
        "output = model(inputs)\n",
        "loss = criterion(output, target)\n",
        "\n",
        "optimizer.zero_grad()\n",
        "loss.backward()\n",
        "optimizer.step()\n",
        "\n",
        "print(\"Output after training:\", output)"
      ],
      "metadata": {
        "colab": {
          "base_uri": "https://localhost:8080/"
        },
        "id": "1H1CuK_U16zS",
        "outputId": "a7e9482f-f9d7-4137-b9af-e754d07102a7"
      },
      "execution_count": 9,
      "outputs": [
        {
          "output_type": "stream",
          "name": "stdout",
          "text": [
            "Output after training: tensor([[-0.5724, -0.1758,  0.2561, -0.2096,  0.4328,  0.3299,  0.3667,  0.1986,\n",
            "         -0.1860,  0.3051]], grad_fn=<AddmmBackward0>)\n"
          ]
        }
      ]
    },
    {
      "cell_type": "markdown",
      "source": [
        "# **Tensor Operations**"
      ],
      "metadata": {
        "id": "NT9eAOmL2dne"
      }
    },
    {
      "cell_type": "markdown",
      "source": [
        "# **Basic Arithmetic Operations on Tensor**"
      ],
      "metadata": {
        "id": "25sygoj02Yc4"
      }
    },
    {
      "cell_type": "code",
      "source": [
        "import torch\n",
        "\n",
        "a = torch.tensor([1.0, 2.0, 3.0])\n",
        "b = torch.tensor([4.0, 5.0, 6.0])\n",
        "\n",
        "c = a + b\n",
        "print(\"Addition:\", c)\n",
        "\n",
        "d = a * b\n",
        "print(\"Multiplication:\", d)\n",
        "\n",
        "e = torch.dot(a, b)\n",
        "print(\"Dot Product:\", e)"
      ],
      "metadata": {
        "colab": {
          "base_uri": "https://localhost:8080/"
        },
        "id": "dJgJ2HAu2AxB",
        "outputId": "b282f1fa-6db9-490a-b2e5-8dad72f41772"
      },
      "execution_count": 10,
      "outputs": [
        {
          "output_type": "stream",
          "name": "stdout",
          "text": [
            "Addition: tensor([5., 7., 9.])\n",
            "Multiplication: tensor([ 4., 10., 18.])\n",
            "Dot Product: tensor(32.)\n"
          ]
        }
      ]
    },
    {
      "cell_type": "markdown",
      "source": [
        "# **Reshaping Tensors**"
      ],
      "metadata": {
        "id": "CJOBG3uY2Smr"
      }
    },
    {
      "cell_type": "code",
      "source": [
        "import torch\n",
        "\n",
        "a = torch.tensor([[1, 2, 3], [4, 5, 6]])\n",
        "\n",
        "b = a.view(-1)\n",
        "print(\"1D Tensor:\", b)\n",
        "\n",
        "c = a.view(3, 2)\n",
        "print(\"3x2 Tensor:\", c)\n",
        "\n",
        "d = a.view(1, -1)\n",
        "print(\"1x6 Tensor:\", d)"
      ],
      "metadata": {
        "colab": {
          "base_uri": "https://localhost:8080/"
        },
        "id": "oIhuHpUy2Gts",
        "outputId": "caea7c1f-e31f-4917-c27e-c4b4c2396b63"
      },
      "execution_count": 11,
      "outputs": [
        {
          "output_type": "stream",
          "name": "stdout",
          "text": [
            "1D Tensor: tensor([1, 2, 3, 4, 5, 6])\n",
            "3x2 Tensor: tensor([[1, 2],\n",
            "        [3, 4],\n",
            "        [5, 6]])\n",
            "1x6 Tensor: tensor([[1, 2, 3, 4, 5, 6]])\n"
          ]
        }
      ]
    },
    {
      "cell_type": "markdown",
      "source": [
        "# **Slicing & Indexing Tensors**"
      ],
      "metadata": {
        "id": "MQRufysp2MPj"
      }
    },
    {
      "cell_type": "code",
      "source": [
        "import torch\n",
        "\n",
        "a = torch.tensor([[1, 2, 3],\n",
        "                  [4, 5, 6],\n",
        "                  [7, 8, 9]])\n",
        "\n",
        "row_1 = a[0, :]\n",
        "print(\"First Row:\", row_1)\n",
        "\n",
        "col_1 = a[:, 0]\n",
        "print(\"First Column:\", col_1)\n",
        "\n",
        "elem = a[2, 2]\n",
        "print(\"Element at (2, 2):\", elem)"
      ],
      "metadata": {
        "colab": {
          "base_uri": "https://localhost:8080/"
        },
        "id": "uHCZ7rON2Kbw",
        "outputId": "e93f036a-afa9-4b64-9529-e64d688cca13"
      },
      "execution_count": 12,
      "outputs": [
        {
          "output_type": "stream",
          "name": "stdout",
          "text": [
            "First Row: tensor([1, 2, 3])\n",
            "First Column: tensor([1, 4, 7])\n",
            "Element at (2, 2): tensor(9)\n"
          ]
        }
      ]
    }
  ]
}